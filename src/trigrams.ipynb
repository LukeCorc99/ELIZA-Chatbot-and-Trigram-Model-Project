{
 "cells": [
  {
   "cell_type": "markdown",
   "metadata": {},
   "source": [
    "# Task 1: Third-Order Letter Approximation Model"
   ]
  },
  {
   "cell_type": "code",
   "execution_count": 1,
   "metadata": {},
   "outputs": [],
   "source": [
    "# Define necessary imports\n",
    "\n",
    "import os # For file operations\n",
    "import collections # For counting characters in files and creating a dictionary\n",
    "import random # For selecting random items from lists\n",
    "import json # For exporting model as a JSON file\n"
   ]
  },
  {
   "attachments": {},
   "cell_type": "markdown",
   "metadata": {},
   "source": [
    "## Step 1: Create method to format text files\n",
    "\n",
    "The `formatFiles` method is used to process text files in a folder to count how often certain characters appear. The [Counter() function](https://github.com/ianmcloughlin/2425_emerging_technologies/blob/main/02_language_models.ipynb) in Python's 'collections' module is used to keep track of character counts across all files. It then goes through each file in the folder using the [listdir() function in the 'os' module](https://pytutorial.com/python-using-oslistdir-to-list-files-in-a-directory/), checking if it ends with .txt and joining the file name and the directory path together using another function from the 'os' module, [path.join()](https://www.geeksforgeeks.org/python-os-path-join-method/), in order to access the file via the file path.\n",
    "\n",
    "For each text file, it reads the content using UTF-8 encoding and converts everything to uppercase. It removes any characters not in the list and searches for specific start and end markers to extract the main content of the file, using both [find()](https://www.w3schools.com/python/ref_string_find.asp) and Python's [slicing function](https://www.w3schools.com/python/ref_func_slice.asp). If these markers are found, it keeps only the text between them. It counts the characters in this cleaned text using the Counter() function and adds these counts to the total. Finally, it prints out the total counts for each character and returns the cleaned files in a list."
   ]
  },
  {
   "cell_type": "code",
   "execution_count": 2,
   "metadata": {},
   "outputs": [],
   "source": [
    "# Method to format the files\n",
    "def formatFiles(directory, keep):\n",
    "    # Initialize a Counter to store the frequency of each character across all files\n",
    "    totalCounts = collections.Counter()\n",
    "    \n",
    "    # Initialize a list to store cleaned files\n",
    "    cleanedFiles = []\n",
    "\n",
    "    # Iterate over all files in the directory\n",
    "    for fileName in os.listdir(directory):\n",
    "        if fileName.endswith('.txt'):\n",
    "            filePath = os.path.join(directory, fileName)\n",
    "            \n",
    "            # Open the file with UTF-8 encoding\n",
    "            with open(filePath, 'r', encoding='utf-8') as file:\n",
    "                # Read the whole file into a string.\n",
    "                english = file.read()\n",
    "\n",
    "            # Change everything to upper case.\n",
    "            english = english.upper()\n",
    "\n",
    "            # Remove unwanted characters.\n",
    "            cleaned = ''.join(c for c in english if c in keep)\n",
    "\n",
    "            # Remove preamble and postamble by finding the main content.\n",
    "            # If find returns -1, the substring was not found.\n",
    "            start = cleaned.find('START OF THE PROJECT GUTENBERG EBOOK')\n",
    "            end = cleaned.find('END OF THE PROJECT GUTENBERG EBOOK')\n",
    "\n",
    "            # If the substrings are found, extract the main content.\n",
    "            if start != -1 and end != -1:\n",
    "                cleaned = cleaned[start:end]\n",
    "            else:\n",
    "                print(\"ERROR: Substrings not found in file:\", fileName)\n",
    "\n",
    "            # Count the frequency of each character in the current file.\n",
    "            counts = collections.Counter(cleaned)\n",
    "            \n",
    "            # Update the total counts with the counts from the current file\n",
    "            totalCounts.update(counts)\n",
    "\n",
    "            # Append the cleaned file to the list of cleaned files\n",
    "            cleanedFiles.append(cleaned)\n",
    "\n",
    "\n",
    "    # Print the results\n",
    "    for char, count in totalCounts.items():\n",
    "        print(f\"'{char}': {count}\")\n",
    "\n",
    "    # Return the list of cleaned files\n",
    "    return cleanedFiles\n"
   ]
  },
  {
   "attachments": {},
   "cell_type": "markdown",
   "metadata": {},
   "source": [
    "## Step 2: Process Text Files\n",
    "\n",
    "The `formatFiles` method's functionality is tested by passing through both the directory containing all the text files and a string containing all the characters to keep. All text files in the folder are processed, while keeping the characters A-Z, space, and period. After the `formatFiles` method is called and takes the specified directory and characters to keep as arguments, it then reads and formats the text files, and counts the frequency of each character."
   ]
  },
  {
   "cell_type": "code",
   "execution_count": 3,
   "metadata": {},
   "outputs": [
    {
     "name": "stdout",
     "output_type": "stream",
     "text": [
      "'S': 136438\n",
      "'T': 193301\n",
      "'A': 171189\n",
      "'R': 122258\n",
      "' ': 442809\n",
      "'O': 159367\n",
      "'F': 46913\n",
      "'H': 136849\n",
      "'E': 265142\n",
      "'P': 36138\n",
      "'J': 2418\n",
      "'C': 49677\n",
      "'G': 43500\n",
      "'U': 60490\n",
      "'N': 147529\n",
      "'B': 33311\n",
      "'K': 16941\n",
      "'L': 87108\n",
      "'Y': 42416\n",
      "'I': 144493\n",
      "'M': 55608\n",
      "'D': 92967\n",
      "'W': 50034\n",
      "'.': 23533\n",
      "'V': 19577\n",
      "'X': 2706\n",
      "'Z': 1117\n",
      "'Q': 2769\n"
     ]
    }
   ],
   "source": [
    "# Directory containing the text files\n",
    "directory = r'..\\docs\\utf8_english_works'\n",
    "\n",
    "# The characters to keep (ASCII, full stops, spaces).\n",
    "keep = 'ABCDEFGHIJKLMNOPQRSTUVWXYZ .'\n",
    "\n",
    "# Store contents of cleaned files in a list in order to count the number of sequences later\n",
    "textToCount = formatFiles(directory, keep)\n"
   ]
  },
  {
   "cell_type": "markdown",
   "metadata": {},
   "source": [
    "## Step 3: Method to Create Trigram Model\n",
    "The method `countTrigrams` is created which takes in the previously created list of cleaned texts as an argument. Using the [defaultdict()](https://www.geeksforgeeks.org/defaultdict-in-python/) function, it initializes a dictionary as the data structure to store the results; this is effective because dictionaries in Python use key-value pairs, which is perfect for storing each trigram as a key and its respective appearance count as a value.\n",
    "\n",
    "This method then iterates over each cleaned text and extracts the trigrams by slicing the text from a particular index range using the [range()](https://www.w3schools.com/python/ref_func_range.asp)\n",
    " function, incrementing the count of each trigram in the dictionary as it goes. The total count for each trigram is arranged from highest to lowest using the [sorted()](https://www.w3schools.com/python/ref_func_sorted.asp) function. The final result is a sorted dictionary that holds the contents of the trigram model.\n",
    "\n"
   ]
  },
  {
   "cell_type": "code",
   "execution_count": 4,
   "metadata": {},
   "outputs": [],
   "source": [
    "def countTrigrams(cleanedList):\n",
    "    # Create a dictionary to store the trigram counts \n",
    "    trigramCounts = collections.defaultdict(int) \n",
    "\n",
    "    # Iterate over each cleaned file's content\n",
    "    for cleaned in cleanedList:\n",
    "        # Iterate over the cleaned text to extract trigrams \n",
    "        for i in range(len(cleaned)): \n",
    "            trigram = cleaned[i:i+3] # Creates trigram by slicing the cleaned text from index i to i+3\n",
    "            trigramCounts[trigram] += 1 # Increment the count of the trigram in the dictionary\n",
    "\n",
    "    # Sort the trigram counts from highest to lowest\n",
    "    trigramModel = sorted(trigramCounts.items(), key=lambda item: item[1], reverse=True)\n",
    "\n",
    "    # Return the trigram model\n",
    "    return trigramModel\n"
   ]
  },
  {
   "attachments": {},
   "cell_type": "markdown",
   "metadata": {},
   "source": [
    "## Step 4: Pass Through Data and Create Trigram Model\n",
    "\n",
    "The `countTrigrams` method is tested by passing through textToCount, the list that was previously generated with all the cleaned text files. The data in the list is processed and used to create a trigram model."
   ]
  },
  {
   "cell_type": "code",
   "execution_count": 5,
   "metadata": {},
   "outputs": [
    {
     "name": "stdout",
     "output_type": "stream",
     "text": [
      "[(' TH', 48873), ('THE', 41572), ('HE ', 32649), ('ED ', 18886), ('AND', 18822), ('ND ', 18476), (' AN', 17962), ('ING', 15856), (' OF', 14451), ('NG ', 13966), (' TO', 13780), ('OF ', 13380), ('ER ', 12326), ('TO ', 12200), ('AT ', 11910), (' IN', 11877), ('IS ', 10761), (' HE', 10191), ('IN ', 10178), ('AS ', 9318)]\n"
     ]
    }
   ],
   "source": [
    "# Only displays the top 20 trigrams for brevity\n",
    "print(countTrigrams(textToCount)[:20])"
   ]
  },
  {
   "cell_type": "markdown",
   "metadata": {},
   "source": [
    "# Task 2: Third Order Letter Approximation Model"
   ]
  },
  {
   "cell_type": "markdown",
   "metadata": {},
   "source": [
    "## Step 1: Method to Initialize String beginning with TH\n",
    "Here the `initializeString` method is used to initialize a string beginning with TH, which will later be extended up to 10,000 characters. Trigrams beginning with TH and weights are found/created using [list comprehension](https://chatgpt.com/share/670583e8-8ca0-800f-bddd-9e8e27b62db1), with the weights being based off each trigram's reoccurence in the model. Both the trigrams beginning with TH along with their odds of being picked are then displayed using the [zip()](https://www.geeksforgeeks.org/zip-in-python/) function to merge the corresponding lists of trigrams and weights.\n",
    "\n",
    "A trigram is then picked at random using the [random.choices()](https://github.com/ianmcloughlin/2425_emerging_technologies/blob/main/02_language_models.ipynb) function, [which bases its selection off weights](https://pynative.com/python-weighted-random-choices-with-probability/); with the more reoccuring trigrams having a higher chance of being selected such as 'THE', 'THA' etc. Using the [str()](https://www.w3schools.com/python/ref_func_str.asp)\n",
    " function the chosen trigram is converted to a string and is returned by the method."
   ]
  },
  {
   "cell_type": "code",
   "execution_count": 6,
   "metadata": {},
   "outputs": [],
   "source": [
    "def initializeString(trigramModel):\n",
    "    # Use list comprehension to find trigrams that start with 'TH'\n",
    "    thKeys = [key for key, value in trigramModel if key.startswith('TH')]\n",
    "\n",
    "    # Create weights based on reoccurence of trigrams in the model\n",
    "    weights = [value for key, value in trigramModel if key in thKeys]\n",
    "\n",
    "    # Calculate the total weight\n",
    "    totalWeight = sum(weights)\n",
    "\n",
    "    # Print trigrams and weights alongside each other as key-value pairs with total weight as denominator\n",
    "    print(\"Trigrams: | Odds of being chosen:\")\n",
    "    for key, weight in zip(thKeys, weights):\n",
    "        print(f\"{key}       | {weight}/{totalWeight}\")\n",
    "\n",
    "    # Pick a trigram based on the weights, using [0] to extract the first element of the list \n",
    "    chosenTrigram = random.choices(thKeys, weights)[0]\n",
    "\n",
    "    # Convert the randomly chosen trigram to a string\n",
    "    chosenTrigram = str(chosenTrigram)\n",
    "    \n",
    "    # Return the chosen trigram\n",
    "    return chosenTrigram \n"
   ]
  },
  {
   "attachments": {},
   "cell_type": "markdown",
   "metadata": {},
   "source": [
    "## Step 2: Extracting Trigrams from Model and Initializing String\n",
    "In order to test the functionality of the initializeString method, the trigram model from Task 1 is passed through as an argument, in order to create a string beginning with \"TH\" and a third character that is chosen using probability which is based off its reoccurence in the model. "
   ]
  },
  {
   "cell_type": "code",
   "execution_count": 7,
   "metadata": {},
   "outputs": [
    {
     "name": "stdout",
     "output_type": "stream",
     "text": [
      "Trigrams: | Odds of being chosen:\n",
      "THE       | 41572/65984\n",
      "THA       | 8171/65984\n",
      "TH        | 5355/65984\n",
      "THI       | 5317/65984\n",
      "THO       | 2607/65984\n",
      "THR       | 1339/65984\n",
      "THU       | 348/65984\n",
      "THY       | 279/65984\n",
      "THS       | 254/65984\n",
      "TH.       | 214/65984\n",
      "THT       | 100/65984\n",
      "THL       | 74/65984\n",
      "THW       | 65/65984\n",
      "THF       | 57/65984\n",
      "THD       | 51/65984\n",
      "THH       | 50/65984\n",
      "THM       | 33/65984\n",
      "THP       | 23/65984\n",
      "THC       | 18/65984\n",
      "THN       | 13/65984\n",
      "THB       | 12/65984\n",
      "THQ       | 12/65984\n",
      "THG       | 10/65984\n",
      "THK       | 5/65984\n",
      "THJ       | 3/65984\n",
      "THV       | 2/65984\n",
      "Chosen trigram to begin the string: THA\n"
     ]
    }
   ],
   "source": [
    "# Assign the trigram model to a variable and use it to generate a string\n",
    "trigramModel = countTrigrams(textToCount)\n",
    "generatedString = initializeString(trigramModel)\n",
    "\n",
    "# Print the beginning of the 10,000 character string\n",
    "print(\"Chosen trigram to begin the string:\", generatedString)"
   ]
  },
  {
   "cell_type": "markdown",
   "metadata": {},
   "source": [
    "## Step 3: Generate More Characters to Add to the String\n",
    "In order to extend the string up to 10,000 characters, whilst adding new letters that are chosen based off weighted probability, a new method called `generateCharacters` is created. This method employs a lot of similar techniques to the `initializeString` method such as using list comprehension to find certain values and create weights.\n",
    "\n",
    " It uses Python's [string slicing](https://pythonexamples.org/python-string-get-last-n-characters/) function in order to get the last two characters of the string, finds trigrams in the model that begin with these two characters and randomly selects one of the third letters of those trigrams based off their weights by using the [random.choices()](https://www.w3schools.com/python/ref_random_choices.asp) function. For each third letter that is selected, it is added to the string until it reaches 10,000 characters. Once the string reaches 10,000 characters it is returned by the method. "
   ]
  },
  {
   "cell_type": "code",
   "execution_count": 8,
   "metadata": {},
   "outputs": [],
   "source": [
    "def generateCharacters(trigramModel, generatedString):\n",
    "    # Loop until the string reaches the desired length (10,000 characters)\n",
    "    while len(generatedString) < 10000:\n",
    "        # Get the last two characters of the current generated string\n",
    "        lastTwoChars = generatedString[-2:]\n",
    "        \n",
    "        # Use list comprehension to find trigams that start with the last two characters\n",
    "        possibleTrigrams = [key for key, value in trigramModel if key.startswith(lastTwoChars)]\n",
    "        \n",
    "        # Create weights based on reoccurrence of trigrams in the model\n",
    "        weights = [value for key, value in trigramModel if key in possibleTrigrams]\n",
    "        \n",
    "        # Pick a trigram based on the weights\n",
    "        chosenTrigram = random.choices(possibleTrigrams, weights)[0]\n",
    "        \n",
    "        # Add the third character of the chosen trigram to the generated string\n",
    "        generatedString += chosenTrigram[2]\n",
    "    \n",
    "    # Ensure the generated string is exactly 10,000 characters long\n",
    "    if len(generatedString) == 10000:\n",
    "        # Return the generated string\n",
    "        return generatedString\n",
    "    else:\n",
    "        # Return the generated string with an error message\n",
    "        return \"ERROR: The generated string is not 10,000 characters, it is only\", len(generatedString), \"characters long.\""
   ]
  },
  {
   "attachments": {},
   "cell_type": "markdown",
   "metadata": {},
   "source": [
    "## Step 4: Add Characters to String using Model and Initial String\n",
    "To see if the `generateCharacters` function will successfully create a 10,000 character string, it is tested by taking the trigram model created in Task 1 and the initial string generated in step 2 as arguments and uses them to create the final string. The final string is then partially printed to check the output."
   ]
  },
  {
   "cell_type": "code",
   "execution_count": 9,
   "metadata": {},
   "outputs": [
    {
     "name": "stdout",
     "output_type": "stream",
     "text": [
      "Final Generated String (first 100 characters): THARL ONGCONS YELVE NOWN BACQUALE. LIN GRETTER A HING A LERSTO THIR GLONG CALOWN HINTELTHENOT IT HAR\n"
     ]
    }
   ],
   "source": [
    "# Generate the 10,000 character string\n",
    "extendedString = generateCharacters(trigramModel, generatedString)\n",
    "\n",
    "# Print the first 100 characters for verification\n",
    "print(\"Final Generated String (first 100 characters):\", extendedString[:100])"
   ]
  },
  {
   "cell_type": "markdown",
   "metadata": {},
   "source": [
    "# Task 3: Analyze Your Model\n"
   ]
  },
  {
   "cell_type": "markdown",
   "metadata": {},
   "source": [
    "## Step 1: Method to Calculate English Word Percentage\n",
    "The `wordPercentage` method calculates the percentage of valid English words in the 10,000 character string. It reads the list of all English words from words.txt and compares them against the words in the string. The [split()](https://stackoverflow.com/questions/6181763/converting-a-string-to-a-list-of-words) function is used to split words.txt into a list of words, and [set()](https://www.dataquest.io/blog/how-to-remove-duplicates-from-a-python-list/#:~:text=Sets%20in%20Python%20are%20unordered,a%20set%20removes%20the%20duplicates.) is used to remove duplicates from the list. A [generator expression](https://chatgpt.com/share/6706c30b-ae3c-800f-a06a-a51b19853176) is used to iterate over the contents of both the newly created list of words and the string, in order to count the number of English words within the string. This is efficient for handling large datasets without loading them all into memory at once. "
   ]
  },
  {
   "cell_type": "code",
   "execution_count": 10,
   "metadata": {},
   "outputs": [],
   "source": [
    "def wordPercentage(extendedString, words):\n",
    "    # Read the list of English words from the file, creating a set of english words\n",
    "    with open(words, 'r') as file:\n",
    "        englishWords = set(file.read().split())\n",
    "\n",
    "    # Split the extended string into individual words\n",
    "    wordsInString = extendedString.split()\n",
    "\n",
    "    # Count the number of English words. The generator yields 1 for every word found in the set of English words.\n",
    "    validWordCount = sum(1 for word in wordsInString if word in englishWords)\n",
    "\n",
    "    # Calculate the percentage of valid English words\n",
    "    totalWords = len(wordsInString)\n",
    "    percentage = (validWordCount / totalWords) * 100\n",
    "\n",
    "    return percentage"
   ]
  },
  {
   "attachments": {},
   "cell_type": "markdown",
   "metadata": {},
   "source": [
    "## Step 2: Call Method and Calculate English Word Percentage\n",
    "To test the functionality of the `wordPercentage` method to see if it calculates the percentage of English words in the 10,000 character string, both the words.txt file and the string are passed into the `wordPercentage` method, which then returns the English word percentage."
   ]
  },
  {
   "cell_type": "code",
   "execution_count": 11,
   "metadata": {},
   "outputs": [
    {
     "name": "stdout",
     "output_type": "stream",
     "text": [
      "Percentage of valid English words: 34.71%\n"
     ]
    }
   ],
   "source": [
    "# Assign the path to the words file to a variable \n",
    "wordsFile = r'..\\docs\\english_words\\words.txt'\n",
    "\n",
    "# Calculate the percentage of valid English words using the extended string and the words file\n",
    "percentage = wordPercentage(extendedString, wordsFile)\n",
    "\n",
    "# Print the percentage of valid English words\n",
    "print(f\"Percentage of valid English words: {percentage:.2f}%\")\n",
    "\n"
   ]
  },
  {
   "cell_type": "markdown",
   "metadata": {},
   "source": [
    "# Task 4: Exporting Model as JSON\n",
    "## Step 1: Creating Method to Convert Model to JSON File\n",
    "A simple method named `convertModelToJSON` is used to create a JSON file using the [json.dump()](https://www.geeksforgeeks.org/convert-python-list-to-json/) function, which is ideal for converting lists to JSON files. In this case, it will be used to convert the trigram model, which is in list format, into the required JSON file."
   ]
  },
  {
   "cell_type": "code",
   "execution_count": 12,
   "metadata": {},
   "outputs": [],
   "source": [
    "def convertModelToJSON(trigramModel):\n",
    "    # Export the trigram model as a JSON file\n",
    "    with open('trigrams.json', 'w') as file:\n",
    "        json.dump(trigramModel, file)"
   ]
  },
  {
   "attachments": {},
   "cell_type": "markdown",
   "metadata": {},
   "source": [
    "## Step 2: Export the trigram model as a JSON file\n",
    "The trigram model which was created in Task 1 is passed in as an argument to `convertModelToJSON`, exporting the model as a JSON file as well as testing the functionality of the `convertModelToJSON` method."
   ]
  },
  {
   "cell_type": "code",
   "execution_count": 13,
   "metadata": {},
   "outputs": [],
   "source": [
    "# Convert the trigram model to a JSON file\n",
    "convertModelToJSON(trigramModel)"
   ]
  }
 ],
 "metadata": {
  "kernelspec": {
   "display_name": "Python 3",
   "language": "python",
   "name": "python3"
  },
  "language_info": {
   "codemirror_mode": {
    "name": "ipython",
    "version": 3
   },
   "file_extension": ".py",
   "mimetype": "text/x-python",
   "name": "python",
   "nbconvert_exporter": "python",
   "pygments_lexer": "ipython3",
   "version": "3.12.0"
  }
 },
 "nbformat": 4,
 "nbformat_minor": 2
}

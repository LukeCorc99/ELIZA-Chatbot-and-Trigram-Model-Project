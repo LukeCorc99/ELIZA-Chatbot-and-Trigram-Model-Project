{
 "cells": [
  {
   "cell_type": "markdown",
   "metadata": {},
   "source": [
    "# Task 1: Third-order letter approximation model"
   ]
  },
  {
   "cell_type": "code",
   "execution_count": 22,
   "metadata": {},
   "outputs": [],
   "source": [
    "# Define necessary imports\n",
    "import os\n",
    "import collections"
   ]
  },
  {
   "cell_type": "markdown",
   "metadata": {},
   "source": [
    "# Step 1: Create method to format text files\n",
    "\n",
    "Create a method that processes text files in a folder to count how often certain characters appear. It starts by setting up a counter to keep track of character counts across all files. It then goes through each file in the folder, checking if it ends with .txt. For each text file, it reads the content using UTF-8 encoding and converts everything to uppercase. It removes any characters not in the list and looks for specific start and end markers to focus on the main content. If these markers are found, it keeps only the text between them. It counts the characters in this cleaned text and adds these counts to the total. Finally, it prints out the total counts for each character.\n",
    "\n",
    "With help from:\n",
    "- https://github.com/ianmcloughlin/2425_emerging_technologies/blob/main/02_language_models.ipynb\n",
    "- https://www.w3schools.com/python/ref_string_find.asp"
   ]
  },
  {
   "cell_type": "code",
   "execution_count": 23,
   "metadata": {},
   "outputs": [],
   "source": [
    "# Method to format the files\n",
    "def formatFiles(directory, keep):\n",
    "    # Initialize a Counter to store the frequency of each character across all files\n",
    "    totalCounts = collections.Counter()\n",
    "\n",
    "    # Iterate over all files in the directory\n",
    "    for fileName in os.listdir(directory):\n",
    "        if fileName.endswith('.txt'):\n",
    "            filePath = os.path.join(directory, fileName)\n",
    "            \n",
    "            # Open the file with UTF-8 encoding\n",
    "            with open(filePath, 'r', encoding='utf-8') as file:\n",
    "                # Read the whole file into a string.\n",
    "                english = file.read()\n",
    "\n",
    "            # Change everything to upper case.\n",
    "            english = english.upper()\n",
    "\n",
    "            # Remove unwanted characters.\n",
    "            cleaned = ''.join(c for c in english if c in keep)\n",
    "\n",
    "            # Remove preamble and postamble by finding the main content.\n",
    "            # If find returns -1, the substring was not found.\n",
    "            start = cleaned.find('START OF THE PROJECT GUTENBERG EBOOK')\n",
    "            end = cleaned.find('END OF THE PROJECT GUTENBERG EBOOK')\n",
    "\n",
    "            # If the substrings are found, extract the main content.\n",
    "            if start != -1 and end != -1:\n",
    "                cleaned = cleaned[start:end]\n",
    "            else:\n",
    "                print(\"ERROR: Substrings not found in file:\", fileName)\n",
    "\n",
    "            # Count the frequency of each character in the current file.\n",
    "            counts = collections.Counter(cleaned)\n",
    "            \n",
    "            # Update the total counts with the counts from the current file\n",
    "            totalCounts.update(counts)\n",
    "\n",
    "    # Print the results\n",
    "    for char, count in totalCounts.items():\n",
    "        print(f\"'{char}': {count}\")"
   ]
  },
  {
   "cell_type": "markdown",
   "metadata": {},
   "source": [
    "## Step 2: Process Text Files\n",
    "\n",
    "All text files in the folder are processed, while keeping the characters A-Z, space, and period. The 'formatFiles' method is called and takes the specified directory and characters to keep as arguments. It then reads and formats the text files, and counts the frequency of each character."
   ]
  },
  {
   "cell_type": "code",
   "execution_count": 24,
   "metadata": {},
   "outputs": [
    {
     "name": "stdout",
     "output_type": "stream",
     "text": [
      "'S': 136438\n",
      "'T': 193301\n",
      "'A': 171189\n",
      "'R': 122258\n",
      "' ': 442809\n",
      "'O': 159367\n",
      "'F': 46913\n",
      "'H': 136849\n",
      "'E': 265142\n",
      "'P': 36138\n",
      "'J': 2418\n",
      "'C': 49677\n",
      "'G': 43500\n",
      "'U': 60490\n",
      "'N': 147529\n",
      "'B': 33311\n",
      "'K': 16941\n",
      "'L': 87108\n",
      "'Y': 42416\n",
      "'I': 144493\n",
      "'M': 55608\n",
      "'D': 92967\n",
      "'W': 50034\n",
      "'.': 23533\n",
      "'V': 19577\n",
      "'X': 2706\n",
      "'Z': 1117\n",
      "'Q': 2769\n"
     ]
    }
   ],
   "source": [
    "# Directory containing the text files\n",
    "directory = r'..\\docs\\utf8_english_works'\n",
    "\n",
    "# The characters to keep (ASCII, full stops, spaces).\n",
    "keep = 'ABCDEFGHIJKLMNOPQRSTUVWXYZ .'\n",
    "\n",
    "# Call the method\n",
    "formatFiles(directory, keep)"
   ]
  },
  {
   "cell_type": "markdown",
   "metadata": {},
   "source": []
  }
 ],
 "metadata": {
  "kernelspec": {
   "display_name": "Python 3",
   "language": "python",
   "name": "python3"
  },
  "language_info": {
   "codemirror_mode": {
    "name": "ipython",
    "version": 3
   },
   "file_extension": ".py",
   "mimetype": "text/x-python",
   "name": "python",
   "nbconvert_exporter": "python",
   "pygments_lexer": "ipython3",
   "version": "3.12.0"
  }
 },
 "nbformat": 4,
 "nbformat_minor": 2
}

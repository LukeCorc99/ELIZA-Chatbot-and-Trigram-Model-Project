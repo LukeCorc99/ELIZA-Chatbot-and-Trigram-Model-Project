{
 "cells": [
  {
   "cell_type": "markdown",
   "metadata": {},
   "source": [
    "# Task 1: Third-order letter approximation model"
   ]
  },
  {
   "cell_type": "code",
   "execution_count": 15,
   "metadata": {},
   "outputs": [],
   "source": [
    "# Define necessary imports\n",
    "import os\n",
    "import collections"
   ]
  },
  {
   "cell_type": "markdown",
   "metadata": {},
   "source": [
    "# Step 1: Create method to format text files\n",
    "\n",
    "Create a method that processes text files in a folder to count how often certain characters appear. It starts by setting up a counter to keep track of character counts across all files. It then goes through each file in the folder, checking if it ends with .txt. For each text file, it reads the content using UTF-8 encoding and converts everything to uppercase. It removes any characters not in the list and looks for specific start and end markers to focus on the main content. If these markers are found, it keeps only the text between them. It counts the characters in this cleaned text and adds these counts to the total. Finally, it prints out the total counts for each character.\n",
    "\n",
    "- With help from: https://github.com/ianmcloughlin/2425_emerging_technologies/blob/main/02_language_models.ipynb"
   ]
  },
  {
   "cell_type": "code",
   "execution_count": 16,
   "metadata": {},
   "outputs": [],
   "source": [
    "# Method to format the files\n",
    "def formatFiles(directory, keep):\n",
    "    # Initialize a Counter to store the frequency of each character across all files\n",
    "    totalCounts = collections.Counter()\n",
    "\n",
    "    # Iterate over all files in the directory\n",
    "    for fileName in os.listdir(directory):\n",
    "        if fileName.endswith('.txt'):\n",
    "            filePath = os.path.join(directory, fileName)\n",
    "            \n",
    "            # Open the file with UTF-8 encoding\n",
    "            with open(filePath, 'r', encoding='utf-8') as file:\n",
    "                # Read the whole file into a string.\n",
    "                english = file.read()\n",
    "\n",
    "            # Change everything to upper case.\n",
    "            english = english.upper()\n",
    "\n",
    "            # Remove unwanted characters.\n",
    "            cleaned = ''.join(c for c in english if c in keep)\n",
    "\n",
    "            # Remove preamble and postamble by finding the main content.\n",
    "            start = cleaned.find('*** START OF THE PROJECT GUTENBERG EBOOK')\n",
    "            end = cleaned.find('*** END OF THE PROJECT GUTENBERG EBOOK')\n",
    "\n",
    "            # If the start and end markers are found, slice the string to keep only the main content.\n",
    "            if start != -1 and end != -1:\n",
    "                cleaned = cleaned[start:end]\n",
    "\n",
    "            # Count the frequency of each character in the current file.\n",
    "            counts = collections.Counter(cleaned)\n",
    "            \n",
    "            # Update the total counts with the counts from the current file\n",
    "            totalCounts.update(counts)\n",
    "\n",
    "    # Print the results\n",
    "    for char, count in totalCounts.items():\n",
    "        print(f\"'{char}': {count}\")\n",
    "\n"
   ]
  },
  {
   "cell_type": "markdown",
   "metadata": {},
   "source": [
    "## Step 2: Process Text Files\n",
    "\n",
    "All text files in the folder are processed, while keeping the characters A-Z, space, and period. The 'formatFiles' method is called and takes the specified directory and characters to keep as arguments. It then reads and formats the text files, and counts the frequency of each character."
   ]
  },
  {
   "cell_type": "code",
   "execution_count": 17,
   "metadata": {},
   "outputs": [
    {
     "name": "stdout",
     "output_type": "stream",
     "text": [
      "'T': 200766\n",
      "'H': 139506\n",
      "'E': 274391\n",
      "' ': 457722\n",
      "'P': 38308\n",
      "'R': 128165\n",
      "'O': 166164\n",
      "'J': 2863\n",
      "'C': 52702\n",
      "'G': 45575\n",
      "'U': 63052\n",
      "'N': 152683\n",
      "'B': 34663\n",
      "'K': 17643\n",
      "'F': 48794\n",
      "'L': 89490\n",
      "'Y': 44130\n",
      "'S': 140215\n",
      "'I': 149959\n",
      "'A': 176215\n",
      "'W': 51488\n",
      "'D': 95615\n",
      "'M': 57110\n",
      "'V': 20135\n",
      "'.': 24651\n",
      "'X': 2846\n",
      "'Z': 1124\n",
      "'Q': 2824\n"
     ]
    }
   ],
   "source": [
    "# Directory containing the text files\n",
    "directory = r'..\\docs\\utf8_english_works'\n",
    "\n",
    "# The characters to keep.\n",
    "keep = 'ABCDEFGHIJKLMNOPQRSTUVWXYZ .'\n",
    "\n",
    "# Call the method\n",
    "formatFiles(directory, keep)"
   ]
  }
 ],
 "metadata": {
  "kernelspec": {
   "display_name": "Python 3",
   "language": "python",
   "name": "python3"
  },
  "language_info": {
   "codemirror_mode": {
    "name": "ipython",
    "version": 3
   },
   "file_extension": ".py",
   "mimetype": "text/x-python",
   "name": "python",
   "nbconvert_exporter": "python",
   "pygments_lexer": "ipython3",
   "version": "3.12.0"
  }
 },
 "nbformat": 4,
 "nbformat_minor": 2
}

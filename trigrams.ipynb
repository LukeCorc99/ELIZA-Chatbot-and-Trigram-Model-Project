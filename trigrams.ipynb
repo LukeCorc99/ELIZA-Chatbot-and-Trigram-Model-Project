{
 "cells": [
  {
   "cell_type": "markdown",
   "metadata": {},
   "source": [
    "**Give overview/summary of code box below in markdowns, then add source at end. Refer to github page.\n",
    "**Make title in bold and description in normal. figure out how to do this\n",
    "**Add source for every method"
   ]
  },
  {
   "cell_type": "code",
   "execution_count": null,
   "metadata": {
    "vscode": {
     "languageId": "plaintext"
    }
   },
   "outputs": [],
   "source": [
    "//sample code below, see if it works\n",
    "\n",
    "\n",
    "//DO NOT COMMIT\n",
    "\n",
    "import re\n",
    "from collections import defaultdict\n",
    "\n",
    "# Step 1: Define function to clean and preprocess text\n",
    "def preprocess_text(text):\n",
    "    # Remove preamble and postamble by identifying start and end of actual content\n",
    "    start_index = text.find(\"*** START OF THIS PROJECT GUTENBERG EBOOK\")\n",
    "    end_index = text.find(\"*** END OF THIS PROJECT GUTENBERG EBOOK\")\n",
    "    \n",
    "    if start_index != -1 and end_index != -1:\n",
    "        text = text[start_index:end_index]\n",
    "\n",
    "    # Remove any non-ASCII letters, full stops, or spaces\n",
    "    text = re.sub(r'[^a-zA-Z .]', '', text)\n",
    "\n",
    "    # Convert to uppercase\n",
    "    text = text.upper()\n",
    "    \n",
    "    return text\n",
    "\n",
    "# Step 2: Define function to generate trigram model\n",
    "def generate_trigram_model(text):\n",
    "    trigram_model = defaultdict(int)\n",
    "    \n",
    "    # Iterate over text to extract trigrams\n",
    "    for i in range(len(text) - 2):\n",
    "        trigram = text[i:i+3]\n",
    "        trigram_model[trigram] += 1\n",
    "    \n",
    "    return trigram_model\n",
    "\n",
    "# Step 3: Example usage\n",
    "# Load the texts from Project Gutenberg (Replace with actual file paths)\n",
    "file_paths = [\n",
    "    \"pride_and_prejudice.txt\",  # Example path, replace with actual file paths\n",
    "    \"moby_dick.txt\",\n",
    "    \"sherlock_holmes.txt\",\n",
    "    \"alice_in_wonderland.txt\",\n",
    "    \"a_tale_of_two_cities.txt\"\n",
    "]\n",
    "\n",
    "combined_text = \"\"\n",
    "\n",
    "# Load and preprocess each text file\n",
    "for file_path in file_paths:\n",
    "    with open(file_path, 'r', encoding='utf-8') as file:\n",
    "        text = file.read()\n",
    "        cleaned_text = preprocess_text(text)\n",
    "        combined_text += cleaned_text\n",
    "\n",
    "# Generate the trigram model from the combined text\n",
    "trigram_model = generate_trigram_model(combined_text)\n",
    "\n",
    "# Output sample trigrams and their counts\n",
    "sample_trigrams = dict(list(trigram_model.items())[:10])  # Print first 10 trigrams as a sample\n",
    "print(sample_trigrams)\n"
   ]
  }
 ],
 "metadata": {
  "language_info": {
   "name": "python"
  }
 },
 "nbformat": 4,
 "nbformat_minor": 2
}
